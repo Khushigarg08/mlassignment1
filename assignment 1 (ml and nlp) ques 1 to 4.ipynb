{
 "cells": [
  {
   "cell_type": "markdown",
   "id": "f8e582b4",
   "metadata": {},
   "source": [
    "# question 1"
   ]
  },
  {
   "cell_type": "code",
   "execution_count": 1,
   "id": "8b0f16e8",
   "metadata": {},
   "outputs": [],
   "source": [
    "import numpy as np"
   ]
  },
  {
   "cell_type": "code",
   "execution_count": 2,
   "id": "136fb5ea",
   "metadata": {},
   "outputs": [],
   "source": [
    "from numpy import random"
   ]
  },
  {
   "cell_type": "code",
   "execution_count": 4,
   "id": "a8f4ad56",
   "metadata": {},
   "outputs": [
    {
     "name": "stdout",
     "output_type": "stream",
     "text": [
      "[[ 7  1 10 26]\n",
      " [ 5 49 26 36]\n",
      " [37 16 33 18]\n",
      " [25  2 33 18]\n",
      " [18 32 45 37]]\n"
     ]
    }
   ],
   "source": [
    "arr = np.random.randint(50,size = (5,4))\n",
    "print(arr)"
   ]
  },
  {
   "cell_type": "code",
   "execution_count": 15,
   "id": "c92ec8e5",
   "metadata": {},
   "outputs": [
    {
     "name": "stdout",
     "output_type": "stream",
     "text": [
      "[26, 26, 16, 25]\n"
     ]
    }
   ],
   "source": [
    "n = len(arr[0])\n",
    "m = len(arr)\n",
    "ad = []\n",
    "for i in range(min(m, n)):\n",
    "    ad.append(arr[i][n-i-1])\n",
    "\n",
    "print(ad)"
   ]
  },
  {
   "cell_type": "code",
   "execution_count": 17,
   "id": "c81fc305",
   "metadata": {},
   "outputs": [
    {
     "name": "stdout",
     "output_type": "stream",
     "text": [
      "26\n",
      "49\n",
      "37\n",
      "33\n",
      "45\n"
     ]
    }
   ],
   "source": [
    "for i in range(len(arr)):\n",
    "    t = max(arr[i])\n",
    "    print(t)"
   ]
  },
  {
   "cell_type": "code",
   "execution_count": 19,
   "id": "2e69db7e",
   "metadata": {},
   "outputs": [
    {
     "name": "stdout",
     "output_type": "stream",
     "text": [
      "23.7\n"
     ]
    }
   ],
   "source": [
    "arr_mean = np.mean(arr)\n",
    "print(arr_mean)"
   ]
  },
  {
   "cell_type": "code",
   "execution_count": 20,
   "id": "7f4750e8",
   "metadata": {},
   "outputs": [
    {
     "name": "stdout",
     "output_type": "stream",
     "text": [
      "[26 49 26 36 37 33 25 33 32 45 37]\n"
     ]
    }
   ],
   "source": [
    "new_arr = arr[arr > arr_mean]\n",
    "print(new_arr)"
   ]
  },
  {
   "cell_type": "code",
   "execution_count": 28,
   "id": "1f1c972c",
   "metadata": {},
   "outputs": [],
   "source": [
    "def numpy_boudary_traversal(matrix):\n",
    "    mylist = []\n",
    "    top  = 0;\n",
    "    left = 0;\n",
    "    right = matrix.shape[1]-1\n",
    "    bottom = matrix.shape[0]-1\n",
    "    for i in range(left,right+1):\n",
    "        mylist.append(matrix[top][i])   \n",
    "        \n",
    "        \n",
    "    for i in range(top+1,bottom+1):\n",
    "        mylist.append(matrix[i][right])    \n",
    "        \n",
    "        \n",
    "    for i in range(right-1,left-1,-1):\n",
    "        mylist.append(matrix[bottom][i])\n",
    "        \n",
    "        \n",
    "    for i in range(bottom-1,top-1,-1):\n",
    "        mylist.append(matrix[i][left])\n",
    "        \n",
    "    return mylist"
   ]
  },
  {
   "cell_type": "code",
   "execution_count": 29,
   "id": "c095db65",
   "metadata": {},
   "outputs": [
    {
     "data": {
      "text/plain": [
       "[7, 1, 10, 26, 36, 18, 18, 37, 45, 32, 18, 25, 37, 5, 7]"
      ]
     },
     "execution_count": 29,
     "metadata": {},
     "output_type": "execute_result"
    }
   ],
   "source": [
    "numpy_boudary_traversal(arr)"
   ]
  },
  {
   "cell_type": "markdown",
   "id": "7ca6b3e5",
   "metadata": {},
   "source": [
    "# question 2"
   ]
  },
  {
   "cell_type": "code",
   "execution_count": 33,
   "id": "646acf25",
   "metadata": {},
   "outputs": [
    {
     "name": "stdout",
     "output_type": "stream",
     "text": [
      "[8.59411958 7.51595313 3.39711911 3.63718044 4.06360377 6.66906093\n",
      " 7.69927935 3.71166501 9.69101227 3.53384204 8.67051195 6.27381462\n",
      " 8.51984123 7.45875311 1.30518195 6.12595145 7.98326757 4.77644692\n",
      " 9.379058   6.97474937]\n"
     ]
    }
   ],
   "source": [
    "arrr = np.random.uniform(10, size = (20))\n",
    "print(arrr)"
   ]
  },
  {
   "cell_type": "code",
   "execution_count": 34,
   "id": "e117c032",
   "metadata": {},
   "outputs": [
    {
     "name": "stdout",
     "output_type": "stream",
     "text": [
      "[8.59 7.52 3.4  3.64 4.06 6.67 7.7  3.71 9.69 3.53 8.67 6.27 8.52 7.46\n",
      " 1.31 6.13 7.98 4.78 9.38 6.97]\n"
     ]
    }
   ],
   "source": [
    "roundarr = np.round(arrr,2)\n",
    "print(roundarr)"
   ]
  },
  {
   "cell_type": "code",
   "execution_count": 36,
   "id": "9f5a38a7",
   "metadata": {},
   "outputs": [
    {
     "name": "stdout",
     "output_type": "stream",
     "text": [
      "1.31\n"
     ]
    }
   ],
   "source": [
    "mini = min(roundarr)\n",
    "print(mini)"
   ]
  },
  {
   "cell_type": "code",
   "execution_count": 37,
   "id": "604d41a4",
   "metadata": {},
   "outputs": [
    {
     "name": "stdout",
     "output_type": "stream",
     "text": [
      "9.69\n"
     ]
    }
   ],
   "source": [
    "maxi = max(roundarr)\n",
    "print(maxi)"
   ]
  },
  {
   "cell_type": "code",
   "execution_count": 39,
   "id": "8de2585c",
   "metadata": {},
   "outputs": [
    {
     "name": "stdout",
     "output_type": "stream",
     "text": [
      "6.82\n"
     ]
    }
   ],
   "source": [
    "medi = np.median(roundarr)\n",
    "print(medi)"
   ]
  },
  {
   "cell_type": "code",
   "execution_count": 49,
   "id": "82dc3288",
   "metadata": {},
   "outputs": [
    {
     "name": "stdout",
     "output_type": "stream",
     "text": [
      "[ 8.59    7.52   11.56   13.2496 16.4836  6.67    7.7    13.7641  9.69\n",
      " 12.4609  8.67    6.27    8.52    7.46    1.7161  6.13    7.98   22.8484\n",
      "  9.38    6.97  ]\n"
     ]
    }
   ],
   "source": [
    "for i in range(len(roundarr)):\n",
    "    if(roundarr[i] < 5):\n",
    "        roundarr[i] = roundarr[i]*roundarr[i]\n",
    "    i += 1\n",
    "print(roundarr)"
   ]
  },
  {
   "cell_type": "code",
   "execution_count": 54,
   "id": "1e95958e",
   "metadata": {},
   "outputs": [],
   "source": [
    "def numpy_alternate_sort(array):\n",
    "    new = []\n",
    "    array = sorted(array)\n",
    "    \n",
    "    while len(array) > 1:\n",
    "        mini = array.pop(0)\n",
    "        maxi = array.pop(-1)\n",
    "        new += [mini, maxi]\n",
    "    if array:\n",
    "        new.append(array[0])\n",
    "    print(new)"
   ]
  },
  {
   "cell_type": "code",
   "execution_count": 58,
   "id": "b6606aa7",
   "metadata": {},
   "outputs": [
    {
     "name": "stdout",
     "output_type": "stream",
     "text": [
      "[25, 49, 26, 45, 26, 37, 32, 37, 33, 36, 33]\n"
     ]
    }
   ],
   "source": [
    "numpy_alternate_sort(new_arr)"
   ]
  },
  {
   "cell_type": "markdown",
   "id": "5c61b117",
   "metadata": {},
   "source": [
    "# question 3"
   ]
  },
  {
   "cell_type": "code",
   "execution_count": 59,
   "id": "0cfdf3a6",
   "metadata": {},
   "outputs": [],
   "source": [
    "import pandas as pd"
   ]
  },
  {
   "cell_type": "code",
   "execution_count": 62,
   "id": "51d1db3a",
   "metadata": {},
   "outputs": [],
   "source": [
    "data = {\n",
    "    'Name': ['Alice', 'Bob', 'Charlie', 'David', 'Eva', 'Frank', 'Grace', 'Hannah', 'Ivan', 'Julia'],\n",
    "    'Subject':['Math', 'English', 'Science', 'History', 'Math', 'English', 'Science', 'History', 'Math', 'English'],\n",
    "    'Score': np.random.randint(50, 100, size = (10)),\n",
    "    'Grades': ''\n",
    "}\n",
    "df = pd.DataFrame(data)\n",
    "\n",
    "def grades(Score):\n",
    "    if Score >= 90:\n",
    "        return 'A'\n",
    "    elif Score >= 80:\n",
    "        return 'B'\n",
    "    elif Score >= 70:\n",
    "        return 'C'\n",
    "    elif Score >= 60:\n",
    "        return 'D'\n",
    "    else:\n",
    "        return 'F'\n",
    "\n",
    "df['Grade'] = df['Score'].apply(grades)"
   ]
  },
  {
   "cell_type": "code",
   "execution_count": 63,
   "id": "cdfc66fc",
   "metadata": {},
   "outputs": [
    {
     "name": "stdout",
     "output_type": "stream",
     "text": [
      "      Name  Subject  Score Grades Grade\n",
      "0    Alice     Math     82            B\n",
      "1      Bob  English     69            D\n",
      "2  Charlie  Science     90            A\n",
      "3    David  History     97            A\n",
      "4      Eva     Math     85            B\n",
      "5    Frank  English     50            F\n",
      "6    Grace  Science     92            A\n",
      "7   Hannah  History     86            B\n",
      "8     Ivan     Math     77            C\n",
      "9    Julia  English     77            C\n"
     ]
    }
   ],
   "source": [
    "print(df)"
   ]
  },
  {
   "cell_type": "code",
   "execution_count": 64,
   "id": "79e39edd",
   "metadata": {},
   "outputs": [
    {
     "name": "stdout",
     "output_type": "stream",
     "text": [
      "      Name  Subject  Score Grades Grade\n",
      "3    David  History     97            A\n",
      "6    Grace  Science     92            A\n",
      "2  Charlie  Science     90            A\n",
      "7   Hannah  History     86            B\n",
      "4      Eva     Math     85            B\n",
      "0    Alice     Math     82            B\n",
      "8     Ivan     Math     77            C\n",
      "9    Julia  English     77            C\n",
      "1      Bob  English     69            D\n",
      "5    Frank  English     50            F\n"
     ]
    }
   ],
   "source": [
    "df_sorted = df.sort_values(by = \"Score\", ascending = False)\n",
    "print(df_sorted)"
   ]
  },
  {
   "cell_type": "code",
   "execution_count": 66,
   "id": "fdfb0eb6",
   "metadata": {},
   "outputs": [
    {
     "name": "stdout",
     "output_type": "stream",
     "text": [
      "Subject\n",
      "English    65.333333\n",
      "History    91.500000\n",
      "Math       81.333333\n",
      "Science    91.000000\n",
      "Name: Score, dtype: float64\n"
     ]
    }
   ],
   "source": [
    "avg = df.groupby('Subject')['Score'].mean()\n",
    "print(avg)"
   ]
  },
  {
   "cell_type": "code",
   "execution_count": 67,
   "id": "8caa8a71",
   "metadata": {},
   "outputs": [],
   "source": [
    "def  pandas_filter_pass(dataframe):\n",
    "    return df[df['Grade'].isin(['A', 'B'])]"
   ]
  },
  {
   "cell_type": "code",
   "execution_count": 68,
   "id": "a67d6b2b",
   "metadata": {},
   "outputs": [
    {
     "data": {
      "text/html": [
       "<div>\n",
       "<style scoped>\n",
       "    .dataframe tbody tr th:only-of-type {\n",
       "        vertical-align: middle;\n",
       "    }\n",
       "\n",
       "    .dataframe tbody tr th {\n",
       "        vertical-align: top;\n",
       "    }\n",
       "\n",
       "    .dataframe thead th {\n",
       "        text-align: right;\n",
       "    }\n",
       "</style>\n",
       "<table border=\"1\" class=\"dataframe\">\n",
       "  <thead>\n",
       "    <tr style=\"text-align: right;\">\n",
       "      <th></th>\n",
       "      <th>Name</th>\n",
       "      <th>Subject</th>\n",
       "      <th>Score</th>\n",
       "      <th>Grades</th>\n",
       "      <th>Grade</th>\n",
       "    </tr>\n",
       "  </thead>\n",
       "  <tbody>\n",
       "    <tr>\n",
       "      <th>0</th>\n",
       "      <td>Alice</td>\n",
       "      <td>Math</td>\n",
       "      <td>82</td>\n",
       "      <td></td>\n",
       "      <td>B</td>\n",
       "    </tr>\n",
       "    <tr>\n",
       "      <th>2</th>\n",
       "      <td>Charlie</td>\n",
       "      <td>Science</td>\n",
       "      <td>90</td>\n",
       "      <td></td>\n",
       "      <td>A</td>\n",
       "    </tr>\n",
       "    <tr>\n",
       "      <th>3</th>\n",
       "      <td>David</td>\n",
       "      <td>History</td>\n",
       "      <td>97</td>\n",
       "      <td></td>\n",
       "      <td>A</td>\n",
       "    </tr>\n",
       "    <tr>\n",
       "      <th>4</th>\n",
       "      <td>Eva</td>\n",
       "      <td>Math</td>\n",
       "      <td>85</td>\n",
       "      <td></td>\n",
       "      <td>B</td>\n",
       "    </tr>\n",
       "    <tr>\n",
       "      <th>6</th>\n",
       "      <td>Grace</td>\n",
       "      <td>Science</td>\n",
       "      <td>92</td>\n",
       "      <td></td>\n",
       "      <td>A</td>\n",
       "    </tr>\n",
       "    <tr>\n",
       "      <th>7</th>\n",
       "      <td>Hannah</td>\n",
       "      <td>History</td>\n",
       "      <td>86</td>\n",
       "      <td></td>\n",
       "      <td>B</td>\n",
       "    </tr>\n",
       "  </tbody>\n",
       "</table>\n",
       "</div>"
      ],
      "text/plain": [
       "      Name  Subject  Score Grades Grade\n",
       "0    Alice     Math     82            B\n",
       "2  Charlie  Science     90            A\n",
       "3    David  History     97            A\n",
       "4      Eva     Math     85            B\n",
       "6    Grace  Science     92            A\n",
       "7   Hannah  History     86            B"
      ]
     },
     "execution_count": 68,
     "metadata": {},
     "output_type": "execute_result"
    }
   ],
   "source": [
    "pandas_filter_pass(df)"
   ]
  },
  {
   "cell_type": "markdown",
   "id": "e66494df",
   "metadata": {},
   "source": [
    "# problem 4"
   ]
  },
  {
   "cell_type": "code",
   "execution_count": 115,
   "id": "3f9e8915",
   "metadata": {},
   "outputs": [
    {
     "name": "stdout",
     "output_type": "stream",
     "text": [
      "                                               Review Sentiment\n",
      "0   Absolutely fantastic movie! I loved every minu...  positive\n",
      "1   A must-see film, incredibly well-made and capt...  positive\n",
      "2   This movie is a masterpiece, the acting was ph...  positive\n",
      "3   I was blown away by the visuals and the storyl...  positive\n",
      "4   One of the best movies I've seen in years, hig...  positive\n",
      "..                                                ...       ...\n",
      "95  The film is a terrible blend of action, drama,...  negative\n",
      "96     The acting was terrible, the story was boring.  negative\n",
      "97  A movie that is both visually unappealing and ...  negative\n",
      "98  I was completely disengaged from the story, a ...  negative\n",
      "99  This is a movie that will leave you feeling di...  negative\n",
      "\n",
      "[100 rows x 2 columns]\n"
     ]
    }
   ],
   "source": [
    "\n",
    "positive = [\n",
    "    \"Absolutely fantastic movie! I loved every minute of it.\",\n",
    "    \"A must-see film, incredibly well-made and captivating.\",\n",
    "    \"This movie is a masterpiece, the acting was phenomenal.\",\n",
    "    \"I was blown away by the visuals and the storyline.\",\n",
    "    \"One of the best movies I've seen in years, highly recommend it.\",\n",
    "    \"A truly enjoyable experience from start to finish.\",\n",
    "    \"The perfect blend of humor, action, and heart.\",\n",
    "    \"I can't say enough good things about this film.\",\n",
    "    \"The actors were brilliant, the plot was engaging.\",\n",
    "    \"A delightful movie that left me with a big smile.\",\n",
    "    \"This film exceeded all my expectations, a true gem.\",\n",
    "    \"A captivating story with unforgettable characters.\",\n",
    "    \"The soundtrack alone makes this movie worth watching.\",\n",
    "    \"I was on the edge of my seat the entire time, amazing.\",\n",
    "    \"A beautiful film that will stay with me for a long time.\",\n",
    "    \"This is a cinematic triumph, a real work of art.\",\n",
    "    \"The direction was superb, the pacing was perfect.\",\n",
    "    \"I was completely immersed in the world of this movie.\",\n",
    "    \"A heartwarming story that will touch your soul.\",\n",
    "    \"This film is a pure delight, I can't wait to watch it again.\",\n",
    "    \"The special effects were top-notch, truly impressive.\",\n",
    "    \"A movie that will make you laugh and cry, simply wonderful.\",\n",
    "    \"The dialogue was sharp, the performances were outstanding.\",\n",
    "    \"I was thoroughly entertained from beginning to end.\",\n",
    "    \"A movie that deserves all the praise it's getting.\",\n",
    "    \"This film is a testament to the power of storytelling.\",\n",
    "    \"The cinematography was breathtaking, a visual feast.\",\n",
    "    \"A movie that will stay with you long after it ends.\",\n",
    "    \"This is a classic in the making, absolutely superb.\",\n",
    "    \"The chemistry between the actors was palpable, fantastic.\",\n",
    "    \"A film that will uplift your spirits and make you happy.\",\n",
    "    \"The plot twists were unexpected, kept me guessing.\",\n",
    "    \"A movie that is both thought-provoking and entertaining.\",\n",
    "    \"I couldn't ask for a better movie-watching experience.\",\n",
    "    \"This is a must-see for any movie lover, a true classic.\",\n",
    "    \"The acting was so realistic, I felt like I was there.\",\n",
    "    \"A movie that will make you laugh, cry, and everything in between.\",\n",
    "    \"The characters were so well-developed, I cared about them deeply.\",\n",
    "    \"This is a masterpiece of filmmaking, a true work of art.\",\n",
    "    \"A movie that will stay with you for a long time, unforgettable.\",\n",
    "    \"The production design was stunning, a visual masterpiece.\",\n",
    "    \"I was captivated by the story, couldn't look away.\",\n",
    "    \"A movie that is both entertaining and meaningful.\",\n",
    "    \"The music was perfect, enhanced the emotional impact.\",\n",
    "    \"This is a movie that I will recommend to everyone I know.\",\n",
    "    \"The film is a perfect blend of action, drama, and comedy.\",\n",
    "    \"The acting was top-notch, the story was captivating.\",\n",
    "    \"A movie that is both visually stunning and emotionally resonant.\",\n",
    "    \"I was completely engrossed in the story, a fantastic experience.\",\n",
    "    \"This is a movie that will leave you feeling inspired and uplifted.\"\n",
    "]\n",
    "negative = [\n",
    "    \"Absolutely terrible movie, I hated every minute of it.\",\n",
    "    \"A waste of time, poorly made and boring.\",\n",
    "    \"This movie is a disaster, the acting was atrocious.\",\n",
    "    \"I was disappointed by the visuals and the storyline.\",\n",
    "    \"One of the worst movies I've seen in years, don't recommend it.\",\n",
    "    \"A truly unenjoyable experience from start to finish.\",\n",
    "    \"The worst blend of humor, action, and heart.\",\n",
    "    \"I can't say enough bad things about this film.\",\n",
    "    \"The actors were terrible, the plot was nonsensical.\",\n",
    "    \"A dreadful movie that left me with a frown.\",\n",
    "    \"This film failed all my expectations, a true disappointment.\",\n",
    "    \"A boring story with forgettable characters.\",\n",
    "    \"The soundtrack alone makes this movie unwatchable.\",\n",
    "    \"I was bored the entire time, awful.\",\n",
    "    \"A terrible film that will leave you feeling empty.\",\n",
    "    \"This is a cinematic failure, a real mess.\",\n",
    "    \"The direction was terrible, the pacing was awful.\",\n",
    "    \"I was completely disengaged from the world of this movie.\",\n",
    "    \"A heartless story that will leave you cold.\",\n",
    "    \"This film is a pure disaster, I can't wait to forget it.\",\n",
    "    \"The special effects were terrible, truly unimpressive.\",\n",
    "    \"A movie that will make you cringe and yawn, simply awful.\",\n",
    "    \"The dialogue was clunky, the performances were terrible.\",\n",
    "    \"I was thoroughly bored from beginning to end.\",\n",
    "    \"A movie that deserves all the criticism it's getting.\",\n",
    "    \"This film is a testament to the failure of storytelling.\",\n",
    "    \"The cinematography was dreadful, a visual mess.\",\n",
    "    \"A movie that will leave you feeling empty and sad.\",\n",
    "    \"This is a disaster in the making, absolutely terrible.\",\n",
    "    \"The chemistry between the actors was non-existent, awful.\",\n",
    "    \"A film that will depress your spirits and make you unhappy.\",\n",
    "    \"The plot twists were predictable, kept me yawning.\",\n",
    "    \"A movie that is both pointless and boring.\",\n",
    "    \"I couldn't ask for a worse movie-watching experience.\",\n",
    "    \"This is a must-avoid for any movie lover, a true disaster.\",\n",
    "    \"The acting was so unrealistic, I felt like I was watching a bad play.\",\n",
    "    \"A movie that will make you groan, sigh, and everything in between.\",\n",
    "    \"The characters were so poorly developed, I hated them all.\",\n",
    "    \"This is a failure of filmmaking, a true mess.\",\n",
    "    \"A movie that will stay with you for a long time, unfortunately.\",\n",
    "    \"The production design was awful, a visual nightmare.\",\n",
    "    \"I was bored by the story, couldn't wait for it to end.\",\n",
    "    \"A movie that is both unentertaining and meaningless.\",\n",
    "    \"The music was terrible, detracted from the impact.\",\n",
    "    \"This is a movie that I will recommend no one should see.\",\n",
    "    \"The film is a terrible blend of action, drama, and comedy.\",\n",
    "    \"The acting was terrible, the story was boring.\",\n",
    "    \"A movie that is both visually unappealing and emotionally dull.\",\n",
    "    \"I was completely disengaged from the story, a terrible experience.\",\n",
    "    \"This is a movie that will leave you feeling disappointed and miserable.\"\n",
    "]\n",
    "Reviews = positive + negative\n",
    "\n",
    "df = pd.DataFrame({'Review': Reviews, 'Sentiment': ['positive'] * 50 + ['negative'] * 50})\n",
    "print(df)"
   ]
  },
  {
   "cell_type": "code",
   "execution_count": 116,
   "id": "2ea6afa1",
   "metadata": {},
   "outputs": [],
   "source": [
    "from sklearn.feature_extraction.text import CountVectorizer"
   ]
  },
  {
   "cell_type": "code",
   "execution_count": 117,
   "id": "b1decb2e",
   "metadata": {},
   "outputs": [],
   "source": [
    "vect = CountVectorizer(max_features=500, stop_words='english')\n",
    "X = vect.fit_transform(df['Review'])\n",
    "y = df['Sentiment']"
   ]
  },
  {
   "cell_type": "code",
   "execution_count": 118,
   "id": "13b02910",
   "metadata": {},
   "outputs": [],
   "source": [
    "from sklearn.model_selection import train_test_split"
   ]
  },
  {
   "cell_type": "code",
   "execution_count": 119,
   "id": "8f3b4fa3",
   "metadata": {},
   "outputs": [],
   "source": [
    "X_train, X_test, y_train, y_test = train_test_split(X, y, test_size=0.2, random_state=42 )"
   ]
  },
  {
   "cell_type": "code",
   "execution_count": 120,
   "id": "91099db5",
   "metadata": {},
   "outputs": [],
   "source": [
    "from sklearn.naive_bayes import MultinomialNB"
   ]
  },
  {
   "cell_type": "code",
   "execution_count": 121,
   "id": "e63f6ae4",
   "metadata": {},
   "outputs": [
    {
     "data": {
      "text/html": [
       "<style>#sk-container-id-3 {color: black;}#sk-container-id-3 pre{padding: 0;}#sk-container-id-3 div.sk-toggleable {background-color: white;}#sk-container-id-3 label.sk-toggleable__label {cursor: pointer;display: block;width: 100%;margin-bottom: 0;padding: 0.3em;box-sizing: border-box;text-align: center;}#sk-container-id-3 label.sk-toggleable__label-arrow:before {content: \"▸\";float: left;margin-right: 0.25em;color: #696969;}#sk-container-id-3 label.sk-toggleable__label-arrow:hover:before {color: black;}#sk-container-id-3 div.sk-estimator:hover label.sk-toggleable__label-arrow:before {color: black;}#sk-container-id-3 div.sk-toggleable__content {max-height: 0;max-width: 0;overflow: hidden;text-align: left;background-color: #f0f8ff;}#sk-container-id-3 div.sk-toggleable__content pre {margin: 0.2em;color: black;border-radius: 0.25em;background-color: #f0f8ff;}#sk-container-id-3 input.sk-toggleable__control:checked~div.sk-toggleable__content {max-height: 200px;max-width: 100%;overflow: auto;}#sk-container-id-3 input.sk-toggleable__control:checked~label.sk-toggleable__label-arrow:before {content: \"▾\";}#sk-container-id-3 div.sk-estimator input.sk-toggleable__control:checked~label.sk-toggleable__label {background-color: #d4ebff;}#sk-container-id-3 div.sk-label input.sk-toggleable__control:checked~label.sk-toggleable__label {background-color: #d4ebff;}#sk-container-id-3 input.sk-hidden--visually {border: 0;clip: rect(1px 1px 1px 1px);clip: rect(1px, 1px, 1px, 1px);height: 1px;margin: -1px;overflow: hidden;padding: 0;position: absolute;width: 1px;}#sk-container-id-3 div.sk-estimator {font-family: monospace;background-color: #f0f8ff;border: 1px dotted black;border-radius: 0.25em;box-sizing: border-box;margin-bottom: 0.5em;}#sk-container-id-3 div.sk-estimator:hover {background-color: #d4ebff;}#sk-container-id-3 div.sk-parallel-item::after {content: \"\";width: 100%;border-bottom: 1px solid gray;flex-grow: 1;}#sk-container-id-3 div.sk-label:hover label.sk-toggleable__label {background-color: #d4ebff;}#sk-container-id-3 div.sk-serial::before {content: \"\";position: absolute;border-left: 1px solid gray;box-sizing: border-box;top: 0;bottom: 0;left: 50%;z-index: 0;}#sk-container-id-3 div.sk-serial {display: flex;flex-direction: column;align-items: center;background-color: white;padding-right: 0.2em;padding-left: 0.2em;position: relative;}#sk-container-id-3 div.sk-item {position: relative;z-index: 1;}#sk-container-id-3 div.sk-parallel {display: flex;align-items: stretch;justify-content: center;background-color: white;position: relative;}#sk-container-id-3 div.sk-item::before, #sk-container-id-3 div.sk-parallel-item::before {content: \"\";position: absolute;border-left: 1px solid gray;box-sizing: border-box;top: 0;bottom: 0;left: 50%;z-index: -1;}#sk-container-id-3 div.sk-parallel-item {display: flex;flex-direction: column;z-index: 1;position: relative;background-color: white;}#sk-container-id-3 div.sk-parallel-item:first-child::after {align-self: flex-end;width: 50%;}#sk-container-id-3 div.sk-parallel-item:last-child::after {align-self: flex-start;width: 50%;}#sk-container-id-3 div.sk-parallel-item:only-child::after {width: 0;}#sk-container-id-3 div.sk-dashed-wrapped {border: 1px dashed gray;margin: 0 0.4em 0.5em 0.4em;box-sizing: border-box;padding-bottom: 0.4em;background-color: white;}#sk-container-id-3 div.sk-label label {font-family: monospace;font-weight: bold;display: inline-block;line-height: 1.2em;}#sk-container-id-3 div.sk-label-container {text-align: center;}#sk-container-id-3 div.sk-container {/* jupyter's `normalize.less` sets `[hidden] { display: none; }` but bootstrap.min.css set `[hidden] { display: none !important; }` so we also need the `!important` here to be able to override the default hidden behavior on the sphinx rendered scikit-learn.org. See: https://github.com/scikit-learn/scikit-learn/issues/21755 */display: inline-block !important;position: relative;}#sk-container-id-3 div.sk-text-repr-fallback {display: none;}</style><div id=\"sk-container-id-3\" class=\"sk-top-container\"><div class=\"sk-text-repr-fallback\"><pre>MultinomialNB()</pre><b>In a Jupyter environment, please rerun this cell to show the HTML representation or trust the notebook. <br />On GitHub, the HTML representation is unable to render, please try loading this page with nbviewer.org.</b></div><div class=\"sk-container\" hidden><div class=\"sk-item\"><div class=\"sk-estimator sk-toggleable\"><input class=\"sk-toggleable__control sk-hidden--visually\" id=\"sk-estimator-id-3\" type=\"checkbox\" checked><label for=\"sk-estimator-id-3\" class=\"sk-toggleable__label sk-toggleable__label-arrow\">MultinomialNB</label><div class=\"sk-toggleable__content\"><pre>MultinomialNB()</pre></div></div></div></div></div>"
      ],
      "text/plain": [
       "MultinomialNB()"
      ]
     },
     "execution_count": 121,
     "metadata": {},
     "output_type": "execute_result"
    }
   ],
   "source": [
    "model = MultinomialNB()\n",
    "model.fit(X_train, y_train)"
   ]
  },
  {
   "cell_type": "code",
   "execution_count": 122,
   "id": "f86d4dd7",
   "metadata": {},
   "outputs": [],
   "source": [
    "from sklearn.metrics import accuracy_score"
   ]
  },
  {
   "cell_type": "code",
   "execution_count": 123,
   "id": "98a324a7",
   "metadata": {},
   "outputs": [
    {
     "name": "stdout",
     "output_type": "stream",
     "text": [
      "Accuracy: 0.25\n"
     ]
    }
   ],
   "source": [
    "predictions = model.predict(X_test)\n",
    "accuracy = accuracy_score(y_test, predictions)\n",
    "print(\"Accuracy:\", accuracy)"
   ]
  },
  {
   "cell_type": "code",
   "execution_count": 124,
   "id": "8060abd5",
   "metadata": {},
   "outputs": [],
   "source": [
    "def predict_review_sentiment(model, vect, review):\n",
    "    reviewvector = vect.transform([review])\n",
    "    return model.predict(reviewvector)[0]"
   ]
  },
  {
   "cell_type": "code",
   "execution_count": 125,
   "id": "8ac15666",
   "metadata": {},
   "outputs": [
    {
     "name": "stdout",
     "output_type": "stream",
     "text": [
      "positive\n",
      "negative\n"
     ]
    }
   ],
   "source": [
    "print(predict_review_sentiment(model, vect, \"The movie was absolutely amazing\"))\n",
    "print(predict_review_sentiment(model, vect, \"I didn't like the film at all\"))"
   ]
  },
  {
   "cell_type": "code",
   "execution_count": null,
   "id": "8f0eda14",
   "metadata": {},
   "outputs": [],
   "source": []
  },
  {
   "cell_type": "code",
   "execution_count": null,
   "id": "dcb66b3a",
   "metadata": {},
   "outputs": [],
   "source": []
  },
  {
   "cell_type": "code",
   "execution_count": null,
   "id": "6ff66413",
   "metadata": {},
   "outputs": [],
   "source": []
  },
  {
   "cell_type": "code",
   "execution_count": null,
   "id": "83aa9260",
   "metadata": {},
   "outputs": [],
   "source": []
  },
  {
   "cell_type": "code",
   "execution_count": null,
   "id": "5e11c433",
   "metadata": {},
   "outputs": [],
   "source": []
  },
  {
   "cell_type": "code",
   "execution_count": null,
   "id": "1d5981b1",
   "metadata": {},
   "outputs": [],
   "source": []
  },
  {
   "cell_type": "code",
   "execution_count": null,
   "id": "f9ac84c8",
   "metadata": {},
   "outputs": [],
   "source": []
  },
  {
   "cell_type": "code",
   "execution_count": null,
   "id": "ae4849df",
   "metadata": {},
   "outputs": [],
   "source": []
  },
  {
   "cell_type": "code",
   "execution_count": null,
   "id": "7fdc9105",
   "metadata": {},
   "outputs": [],
   "source": []
  }
 ],
 "metadata": {
  "kernelspec": {
   "display_name": "Python 3 (ipykernel)",
   "language": "python",
   "name": "python3"
  },
  "language_info": {
   "codemirror_mode": {
    "name": "ipython",
    "version": 3
   },
   "file_extension": ".py",
   "mimetype": "text/x-python",
   "name": "python",
   "nbconvert_exporter": "python",
   "pygments_lexer": "ipython3",
   "version": "3.11.4"
  }
 },
 "nbformat": 4,
 "nbformat_minor": 5
}
